{
 "cells": [
  {
   "cell_type": "markdown",
   "metadata": {},
   "source": [
    "# Índice <a name=\"Contents\"></a>\n",
    "1. [Importando bibliotecas](#import)\n",
    "2. [Construindo um dataframe ](#read)\n",
    "3. [Amostragem (sample)](#amostragem)\n",
    "3. [Intro sobre métodos de string](#strings)\n",
    "\n"
   ]
  },
  {
   "cell_type": "markdown",
   "metadata": {},
   "source": [
    "# 1. Importando bibliotecas <a name=\"import\"></a>\n",
    "\n",
    "<div style=\"text-align: right\"\n",
    "     \n",
    "[Voltar ao índice](#Contents)"
   ]
  },
  {
   "cell_type": "code",
   "execution_count": 1,
   "metadata": {
    "ExecuteTime": {
     "end_time": "2021-05-31T09:48:00.524786Z",
     "start_time": "2021-05-31T09:47:57.714385Z"
    }
   },
   "outputs": [],
   "source": [
    "import numpy  as np\n",
    "import pandas as pd"
   ]
  },
  {
   "cell_type": "markdown",
   "metadata": {},
   "source": [
    "# 2. Construindo um dataframe  <a name=\"read\"></a>\n",
    "<div style=\"text-align: right\"\n",
    "     \n",
    "[Voltar ao índice](#Contents)"
   ]
  },
  {
   "cell_type": "code",
   "execution_count": 2,
   "metadata": {
    "ExecuteTime": {
     "end_time": "2021-05-31T09:50:48.945129Z",
     "start_time": "2021-05-31T09:50:48.840662Z"
    }
   },
   "outputs": [],
   "source": [
    "df = pd.DataFrame(np.random.randint(100000, size=(1000000, 10)),\n",
    "             columns=['A', 'B', 'C', 'D', 'E', 'F', 'G', 'H', 'I', 'J'])"
   ]
  },
  {
   "cell_type": "markdown",
   "metadata": {},
   "source": [
    "# 3. Amostragem <a name=\"amostragem\"></a>\n",
    "<div style=\"text-align: right\"\n",
    "     \n",
    "[Voltar ao índice](#Contents)"
   ]
  },
  {
   "cell_type": "code",
   "execution_count": 3,
   "metadata": {
    "ExecuteTime": {
     "end_time": "2021-05-31T09:53:30.287377Z",
     "start_time": "2021-05-31T09:53:30.273391Z"
    }
   },
   "outputs": [
    {
     "data": {
      "text/plain": [
       "(1000000, 10)"
      ]
     },
     "execution_count": 3,
     "metadata": {},
     "output_type": "execute_result"
    }
   ],
   "source": [
    "df.shape"
   ]
  },
  {
   "cell_type": "code",
   "execution_count": 4,
   "metadata": {
    "ExecuteTime": {
     "end_time": "2021-05-31T09:52:47.422509Z",
     "start_time": "2021-05-31T09:52:47.363477Z"
    }
   },
   "outputs": [
    {
     "data": {
      "text/html": [
       "<div>\n",
       "<style scoped>\n",
       "    .dataframe tbody tr th:only-of-type {\n",
       "        vertical-align: middle;\n",
       "    }\n",
       "\n",
       "    .dataframe tbody tr th {\n",
       "        vertical-align: top;\n",
       "    }\n",
       "\n",
       "    .dataframe thead th {\n",
       "        text-align: right;\n",
       "    }\n",
       "</style>\n",
       "<table border=\"1\" class=\"dataframe\">\n",
       "  <thead>\n",
       "    <tr style=\"text-align: right;\">\n",
       "      <th></th>\n",
       "      <th>A</th>\n",
       "      <th>B</th>\n",
       "      <th>C</th>\n",
       "      <th>D</th>\n",
       "      <th>E</th>\n",
       "      <th>F</th>\n",
       "      <th>G</th>\n",
       "      <th>H</th>\n",
       "      <th>I</th>\n",
       "      <th>J</th>\n",
       "    </tr>\n",
       "  </thead>\n",
       "  <tbody>\n",
       "    <tr>\n",
       "      <th>134625</th>\n",
       "      <td>70372</td>\n",
       "      <td>95784</td>\n",
       "      <td>82598</td>\n",
       "      <td>24980</td>\n",
       "      <td>94916</td>\n",
       "      <td>83921</td>\n",
       "      <td>98585</td>\n",
       "      <td>53500</td>\n",
       "      <td>62972</td>\n",
       "      <td>44407</td>\n",
       "    </tr>\n",
       "    <tr>\n",
       "      <th>480640</th>\n",
       "      <td>17240</td>\n",
       "      <td>61980</td>\n",
       "      <td>97804</td>\n",
       "      <td>35451</td>\n",
       "      <td>433</td>\n",
       "      <td>26204</td>\n",
       "      <td>57571</td>\n",
       "      <td>42888</td>\n",
       "      <td>60069</td>\n",
       "      <td>45471</td>\n",
       "    </tr>\n",
       "    <tr>\n",
       "      <th>884363</th>\n",
       "      <td>58619</td>\n",
       "      <td>99438</td>\n",
       "      <td>77126</td>\n",
       "      <td>61680</td>\n",
       "      <td>59813</td>\n",
       "      <td>50081</td>\n",
       "      <td>59082</td>\n",
       "      <td>13170</td>\n",
       "      <td>13891</td>\n",
       "      <td>24548</td>\n",
       "    </tr>\n",
       "    <tr>\n",
       "      <th>139750</th>\n",
       "      <td>74934</td>\n",
       "      <td>18142</td>\n",
       "      <td>48347</td>\n",
       "      <td>828</td>\n",
       "      <td>30257</td>\n",
       "      <td>28336</td>\n",
       "      <td>60593</td>\n",
       "      <td>83612</td>\n",
       "      <td>56</td>\n",
       "      <td>57800</td>\n",
       "    </tr>\n",
       "    <tr>\n",
       "      <th>503298</th>\n",
       "      <td>48272</td>\n",
       "      <td>74818</td>\n",
       "      <td>5173</td>\n",
       "      <td>16456</td>\n",
       "      <td>87982</td>\n",
       "      <td>23043</td>\n",
       "      <td>89337</td>\n",
       "      <td>39847</td>\n",
       "      <td>5552</td>\n",
       "      <td>13400</td>\n",
       "    </tr>\n",
       "    <tr>\n",
       "      <th>121923</th>\n",
       "      <td>68127</td>\n",
       "      <td>17273</td>\n",
       "      <td>40997</td>\n",
       "      <td>17686</td>\n",
       "      <td>59765</td>\n",
       "      <td>53983</td>\n",
       "      <td>42595</td>\n",
       "      <td>52750</td>\n",
       "      <td>59830</td>\n",
       "      <td>53438</td>\n",
       "    </tr>\n",
       "    <tr>\n",
       "      <th>94546</th>\n",
       "      <td>63516</td>\n",
       "      <td>30373</td>\n",
       "      <td>27951</td>\n",
       "      <td>97075</td>\n",
       "      <td>4577</td>\n",
       "      <td>86949</td>\n",
       "      <td>13523</td>\n",
       "      <td>41316</td>\n",
       "      <td>71648</td>\n",
       "      <td>98879</td>\n",
       "    </tr>\n",
       "    <tr>\n",
       "      <th>471271</th>\n",
       "      <td>39076</td>\n",
       "      <td>89587</td>\n",
       "      <td>24188</td>\n",
       "      <td>70548</td>\n",
       "      <td>29126</td>\n",
       "      <td>9092</td>\n",
       "      <td>1453</td>\n",
       "      <td>61262</td>\n",
       "      <td>58096</td>\n",
       "      <td>69355</td>\n",
       "    </tr>\n",
       "    <tr>\n",
       "      <th>980141</th>\n",
       "      <td>58299</td>\n",
       "      <td>10585</td>\n",
       "      <td>37894</td>\n",
       "      <td>33761</td>\n",
       "      <td>73400</td>\n",
       "      <td>56784</td>\n",
       "      <td>4492</td>\n",
       "      <td>66971</td>\n",
       "      <td>91924</td>\n",
       "      <td>27472</td>\n",
       "    </tr>\n",
       "    <tr>\n",
       "      <th>212239</th>\n",
       "      <td>7207</td>\n",
       "      <td>46583</td>\n",
       "      <td>84784</td>\n",
       "      <td>72892</td>\n",
       "      <td>65652</td>\n",
       "      <td>44128</td>\n",
       "      <td>77868</td>\n",
       "      <td>1407</td>\n",
       "      <td>83513</td>\n",
       "      <td>66123</td>\n",
       "    </tr>\n",
       "  </tbody>\n",
       "</table>\n",
       "</div>"
      ],
      "text/plain": [
       "            A      B      C      D      E      F      G      H      I      J\n",
       "134625  70372  95784  82598  24980  94916  83921  98585  53500  62972  44407\n",
       "480640  17240  61980  97804  35451    433  26204  57571  42888  60069  45471\n",
       "884363  58619  99438  77126  61680  59813  50081  59082  13170  13891  24548\n",
       "139750  74934  18142  48347    828  30257  28336  60593  83612     56  57800\n",
       "503298  48272  74818   5173  16456  87982  23043  89337  39847   5552  13400\n",
       "121923  68127  17273  40997  17686  59765  53983  42595  52750  59830  53438\n",
       "94546   63516  30373  27951  97075   4577  86949  13523  41316  71648  98879\n",
       "471271  39076  89587  24188  70548  29126   9092   1453  61262  58096  69355\n",
       "980141  58299  10585  37894  33761  73400  56784   4492  66971  91924  27472\n",
       "212239   7207  46583  84784  72892  65652  44128  77868   1407  83513  66123"
      ]
     },
     "execution_count": 4,
     "metadata": {},
     "output_type": "execute_result"
    }
   ],
   "source": [
    "df.sample(10)"
   ]
  },
  {
   "cell_type": "code",
   "execution_count": 5,
   "metadata": {
    "ExecuteTime": {
     "end_time": "2021-05-31T09:52:50.016696Z",
     "start_time": "2021-05-31T09:52:49.955731Z"
    },
    "scrolled": true
   },
   "outputs": [
    {
     "data": {
      "text/html": [
       "<div>\n",
       "<style scoped>\n",
       "    .dataframe tbody tr th:only-of-type {\n",
       "        vertical-align: middle;\n",
       "    }\n",
       "\n",
       "    .dataframe tbody tr th {\n",
       "        vertical-align: top;\n",
       "    }\n",
       "\n",
       "    .dataframe thead th {\n",
       "        text-align: right;\n",
       "    }\n",
       "</style>\n",
       "<table border=\"1\" class=\"dataframe\">\n",
       "  <thead>\n",
       "    <tr style=\"text-align: right;\">\n",
       "      <th></th>\n",
       "      <th>A</th>\n",
       "      <th>B</th>\n",
       "      <th>C</th>\n",
       "      <th>D</th>\n",
       "      <th>E</th>\n",
       "      <th>F</th>\n",
       "      <th>G</th>\n",
       "      <th>H</th>\n",
       "      <th>I</th>\n",
       "      <th>J</th>\n",
       "    </tr>\n",
       "  </thead>\n",
       "  <tbody>\n",
       "    <tr>\n",
       "      <th>617759</th>\n",
       "      <td>27801</td>\n",
       "      <td>94209</td>\n",
       "      <td>53715</td>\n",
       "      <td>15251</td>\n",
       "      <td>766</td>\n",
       "      <td>28447</td>\n",
       "      <td>38168</td>\n",
       "      <td>40286</td>\n",
       "      <td>67</td>\n",
       "      <td>9938</td>\n",
       "    </tr>\n",
       "    <tr>\n",
       "      <th>693227</th>\n",
       "      <td>91782</td>\n",
       "      <td>15661</td>\n",
       "      <td>30129</td>\n",
       "      <td>98649</td>\n",
       "      <td>3161</td>\n",
       "      <td>34993</td>\n",
       "      <td>54603</td>\n",
       "      <td>89636</td>\n",
       "      <td>25719</td>\n",
       "      <td>275</td>\n",
       "    </tr>\n",
       "    <tr>\n",
       "      <th>906065</th>\n",
       "      <td>39472</td>\n",
       "      <td>93004</td>\n",
       "      <td>56891</td>\n",
       "      <td>9084</td>\n",
       "      <td>91086</td>\n",
       "      <td>20977</td>\n",
       "      <td>64104</td>\n",
       "      <td>46536</td>\n",
       "      <td>2662</td>\n",
       "      <td>56620</td>\n",
       "    </tr>\n",
       "    <tr>\n",
       "      <th>828507</th>\n",
       "      <td>6228</td>\n",
       "      <td>21128</td>\n",
       "      <td>74156</td>\n",
       "      <td>79260</td>\n",
       "      <td>80562</td>\n",
       "      <td>50356</td>\n",
       "      <td>39416</td>\n",
       "      <td>7924</td>\n",
       "      <td>61889</td>\n",
       "      <td>53761</td>\n",
       "    </tr>\n",
       "    <tr>\n",
       "      <th>869730</th>\n",
       "      <td>38433</td>\n",
       "      <td>87718</td>\n",
       "      <td>52823</td>\n",
       "      <td>46827</td>\n",
       "      <td>47579</td>\n",
       "      <td>28163</td>\n",
       "      <td>89401</td>\n",
       "      <td>10094</td>\n",
       "      <td>30781</td>\n",
       "      <td>20045</td>\n",
       "    </tr>\n",
       "    <tr>\n",
       "      <th>147081</th>\n",
       "      <td>4791</td>\n",
       "      <td>91872</td>\n",
       "      <td>41905</td>\n",
       "      <td>4271</td>\n",
       "      <td>80161</td>\n",
       "      <td>96741</td>\n",
       "      <td>20710</td>\n",
       "      <td>81450</td>\n",
       "      <td>75301</td>\n",
       "      <td>98712</td>\n",
       "    </tr>\n",
       "    <tr>\n",
       "      <th>779428</th>\n",
       "      <td>71062</td>\n",
       "      <td>24241</td>\n",
       "      <td>31044</td>\n",
       "      <td>6946</td>\n",
       "      <td>66732</td>\n",
       "      <td>99519</td>\n",
       "      <td>68058</td>\n",
       "      <td>38846</td>\n",
       "      <td>30846</td>\n",
       "      <td>33869</td>\n",
       "    </tr>\n",
       "    <tr>\n",
       "      <th>485973</th>\n",
       "      <td>39840</td>\n",
       "      <td>23857</td>\n",
       "      <td>20094</td>\n",
       "      <td>21742</td>\n",
       "      <td>40449</td>\n",
       "      <td>23115</td>\n",
       "      <td>12931</td>\n",
       "      <td>48872</td>\n",
       "      <td>5053</td>\n",
       "      <td>76799</td>\n",
       "    </tr>\n",
       "    <tr>\n",
       "      <th>30697</th>\n",
       "      <td>11319</td>\n",
       "      <td>79677</td>\n",
       "      <td>62447</td>\n",
       "      <td>41444</td>\n",
       "      <td>18947</td>\n",
       "      <td>84673</td>\n",
       "      <td>28290</td>\n",
       "      <td>74836</td>\n",
       "      <td>59479</td>\n",
       "      <td>62600</td>\n",
       "    </tr>\n",
       "    <tr>\n",
       "      <th>306669</th>\n",
       "      <td>30446</td>\n",
       "      <td>25840</td>\n",
       "      <td>39904</td>\n",
       "      <td>87561</td>\n",
       "      <td>85726</td>\n",
       "      <td>94824</td>\n",
       "      <td>7782</td>\n",
       "      <td>17234</td>\n",
       "      <td>34937</td>\n",
       "      <td>73268</td>\n",
       "    </tr>\n",
       "  </tbody>\n",
       "</table>\n",
       "</div>"
      ],
      "text/plain": [
       "            A      B      C      D      E      F      G      H      I      J\n",
       "617759  27801  94209  53715  15251    766  28447  38168  40286     67   9938\n",
       "693227  91782  15661  30129  98649   3161  34993  54603  89636  25719    275\n",
       "906065  39472  93004  56891   9084  91086  20977  64104  46536   2662  56620\n",
       "828507   6228  21128  74156  79260  80562  50356  39416   7924  61889  53761\n",
       "869730  38433  87718  52823  46827  47579  28163  89401  10094  30781  20045\n",
       "147081   4791  91872  41905   4271  80161  96741  20710  81450  75301  98712\n",
       "779428  71062  24241  31044   6946  66732  99519  68058  38846  30846  33869\n",
       "485973  39840  23857  20094  21742  40449  23115  12931  48872   5053  76799\n",
       "30697   11319  79677  62447  41444  18947  84673  28290  74836  59479  62600\n",
       "306669  30446  25840  39904  87561  85726  94824   7782  17234  34937  73268"
      ]
     },
     "execution_count": 5,
     "metadata": {},
     "output_type": "execute_result"
    }
   ],
   "source": [
    "df.sample(10, random_state=100)"
   ]
  },
  {
   "cell_type": "code",
   "execution_count": 6,
   "metadata": {
    "ExecuteTime": {
     "end_time": "2021-05-31T09:53:12.039004Z",
     "start_time": "2021-05-31T09:53:11.970040Z"
    }
   },
   "outputs": [
    {
     "data": {
      "text/html": [
       "<div>\n",
       "<style scoped>\n",
       "    .dataframe tbody tr th:only-of-type {\n",
       "        vertical-align: middle;\n",
       "    }\n",
       "\n",
       "    .dataframe tbody tr th {\n",
       "        vertical-align: top;\n",
       "    }\n",
       "\n",
       "    .dataframe thead th {\n",
       "        text-align: right;\n",
       "    }\n",
       "</style>\n",
       "<table border=\"1\" class=\"dataframe\">\n",
       "  <thead>\n",
       "    <tr style=\"text-align: right;\">\n",
       "      <th></th>\n",
       "      <th>A</th>\n",
       "      <th>B</th>\n",
       "      <th>C</th>\n",
       "      <th>D</th>\n",
       "      <th>E</th>\n",
       "      <th>F</th>\n",
       "      <th>G</th>\n",
       "      <th>H</th>\n",
       "      <th>I</th>\n",
       "      <th>J</th>\n",
       "    </tr>\n",
       "  </thead>\n",
       "  <tbody>\n",
       "    <tr>\n",
       "      <th>617759</th>\n",
       "      <td>27801</td>\n",
       "      <td>94209</td>\n",
       "      <td>53715</td>\n",
       "      <td>15251</td>\n",
       "      <td>766</td>\n",
       "      <td>28447</td>\n",
       "      <td>38168</td>\n",
       "      <td>40286</td>\n",
       "      <td>67</td>\n",
       "      <td>9938</td>\n",
       "    </tr>\n",
       "    <tr>\n",
       "      <th>693227</th>\n",
       "      <td>91782</td>\n",
       "      <td>15661</td>\n",
       "      <td>30129</td>\n",
       "      <td>98649</td>\n",
       "      <td>3161</td>\n",
       "      <td>34993</td>\n",
       "      <td>54603</td>\n",
       "      <td>89636</td>\n",
       "      <td>25719</td>\n",
       "      <td>275</td>\n",
       "    </tr>\n",
       "    <tr>\n",
       "      <th>906065</th>\n",
       "      <td>39472</td>\n",
       "      <td>93004</td>\n",
       "      <td>56891</td>\n",
       "      <td>9084</td>\n",
       "      <td>91086</td>\n",
       "      <td>20977</td>\n",
       "      <td>64104</td>\n",
       "      <td>46536</td>\n",
       "      <td>2662</td>\n",
       "      <td>56620</td>\n",
       "    </tr>\n",
       "    <tr>\n",
       "      <th>828507</th>\n",
       "      <td>6228</td>\n",
       "      <td>21128</td>\n",
       "      <td>74156</td>\n",
       "      <td>79260</td>\n",
       "      <td>80562</td>\n",
       "      <td>50356</td>\n",
       "      <td>39416</td>\n",
       "      <td>7924</td>\n",
       "      <td>61889</td>\n",
       "      <td>53761</td>\n",
       "    </tr>\n",
       "    <tr>\n",
       "      <th>869730</th>\n",
       "      <td>38433</td>\n",
       "      <td>87718</td>\n",
       "      <td>52823</td>\n",
       "      <td>46827</td>\n",
       "      <td>47579</td>\n",
       "      <td>28163</td>\n",
       "      <td>89401</td>\n",
       "      <td>10094</td>\n",
       "      <td>30781</td>\n",
       "      <td>20045</td>\n",
       "    </tr>\n",
       "    <tr>\n",
       "      <th>...</th>\n",
       "      <td>...</td>\n",
       "      <td>...</td>\n",
       "      <td>...</td>\n",
       "      <td>...</td>\n",
       "      <td>...</td>\n",
       "      <td>...</td>\n",
       "      <td>...</td>\n",
       "      <td>...</td>\n",
       "      <td>...</td>\n",
       "      <td>...</td>\n",
       "    </tr>\n",
       "    <tr>\n",
       "      <th>599633</th>\n",
       "      <td>65193</td>\n",
       "      <td>40799</td>\n",
       "      <td>95955</td>\n",
       "      <td>37089</td>\n",
       "      <td>88381</td>\n",
       "      <td>84784</td>\n",
       "      <td>82474</td>\n",
       "      <td>29131</td>\n",
       "      <td>1755</td>\n",
       "      <td>80390</td>\n",
       "    </tr>\n",
       "    <tr>\n",
       "      <th>103907</th>\n",
       "      <td>32395</td>\n",
       "      <td>36766</td>\n",
       "      <td>85320</td>\n",
       "      <td>30845</td>\n",
       "      <td>84019</td>\n",
       "      <td>13220</td>\n",
       "      <td>34210</td>\n",
       "      <td>10881</td>\n",
       "      <td>46008</td>\n",
       "      <td>14864</td>\n",
       "    </tr>\n",
       "    <tr>\n",
       "      <th>536846</th>\n",
       "      <td>45615</td>\n",
       "      <td>47289</td>\n",
       "      <td>75733</td>\n",
       "      <td>17733</td>\n",
       "      <td>88273</td>\n",
       "      <td>12391</td>\n",
       "      <td>44385</td>\n",
       "      <td>74831</td>\n",
       "      <td>2695</td>\n",
       "      <td>11856</td>\n",
       "    </tr>\n",
       "    <tr>\n",
       "      <th>68354</th>\n",
       "      <td>22461</td>\n",
       "      <td>80731</td>\n",
       "      <td>28876</td>\n",
       "      <td>16431</td>\n",
       "      <td>75567</td>\n",
       "      <td>79708</td>\n",
       "      <td>43775</td>\n",
       "      <td>90539</td>\n",
       "      <td>10142</td>\n",
       "      <td>11012</td>\n",
       "    </tr>\n",
       "    <tr>\n",
       "      <th>762302</th>\n",
       "      <td>43820</td>\n",
       "      <td>26588</td>\n",
       "      <td>84094</td>\n",
       "      <td>77568</td>\n",
       "      <td>46228</td>\n",
       "      <td>54513</td>\n",
       "      <td>72409</td>\n",
       "      <td>40952</td>\n",
       "      <td>2440</td>\n",
       "      <td>11396</td>\n",
       "    </tr>\n",
       "  </tbody>\n",
       "</table>\n",
       "<p>100000 rows × 10 columns</p>\n",
       "</div>"
      ],
      "text/plain": [
       "            A      B      C      D      E      F      G      H      I      J\n",
       "617759  27801  94209  53715  15251    766  28447  38168  40286     67   9938\n",
       "693227  91782  15661  30129  98649   3161  34993  54603  89636  25719    275\n",
       "906065  39472  93004  56891   9084  91086  20977  64104  46536   2662  56620\n",
       "828507   6228  21128  74156  79260  80562  50356  39416   7924  61889  53761\n",
       "869730  38433  87718  52823  46827  47579  28163  89401  10094  30781  20045\n",
       "...       ...    ...    ...    ...    ...    ...    ...    ...    ...    ...\n",
       "599633  65193  40799  95955  37089  88381  84784  82474  29131   1755  80390\n",
       "103907  32395  36766  85320  30845  84019  13220  34210  10881  46008  14864\n",
       "536846  45615  47289  75733  17733  88273  12391  44385  74831   2695  11856\n",
       "68354   22461  80731  28876  16431  75567  79708  43775  90539  10142  11012\n",
       "762302  43820  26588  84094  77568  46228  54513  72409  40952   2440  11396\n",
       "\n",
       "[100000 rows x 10 columns]"
      ]
     },
     "execution_count": 6,
     "metadata": {},
     "output_type": "execute_result"
    }
   ],
   "source": [
    "df.sample(frac=0.1, random_state=100)"
   ]
  },
  {
   "cell_type": "markdown",
   "metadata": {},
   "source": [
    "# 4. Manipulação de strings - métodos <a name=\"strings\"></a>\n",
    "<div style=\"text-align: right\"\n",
    "     \n",
    "[Voltar ao índice](#Contents)"
   ]
  },
  {
   "cell_type": "code",
   "execution_count": 7,
   "metadata": {
    "ExecuteTime": {
     "end_time": "2021-05-31T10:15:36.733921Z",
     "start_time": "2021-05-31T10:15:36.725926Z"
    }
   },
   "outputs": [],
   "source": [
    "texto = 'texto'"
   ]
  },
  {
   "cell_type": "code",
   "execution_count": 8,
   "metadata": {
    "ExecuteTime": {
     "end_time": "2021-05-31T10:15:41.550985Z",
     "start_time": "2021-05-31T10:15:41.536019Z"
    }
   },
   "outputs": [
    {
     "data": {
      "text/plain": [
       "'otxet'"
      ]
     },
     "execution_count": 8,
     "metadata": {},
     "output_type": "execute_result"
    }
   ],
   "source": [
    "texto[::-1]"
   ]
  },
  {
   "cell_type": "code",
   "execution_count": 9,
   "metadata": {
    "ExecuteTime": {
     "end_time": "2021-05-31T10:19:25.536743Z",
     "start_time": "2021-05-31T10:19:25.522752Z"
    }
   },
   "outputs": [],
   "source": [
    "palindromo = 'apos a sopa'"
   ]
  },
  {
   "cell_type": "code",
   "execution_count": 10,
   "metadata": {
    "ExecuteTime": {
     "end_time": "2021-05-31T10:19:26.240953Z",
     "start_time": "2021-05-31T10:19:26.225962Z"
    }
   },
   "outputs": [
    {
     "data": {
      "text/plain": [
       "'apos a sopa'"
      ]
     },
     "execution_count": 10,
     "metadata": {},
     "output_type": "execute_result"
    }
   ],
   "source": [
    "palindromo[::-1]"
   ]
  },
  {
   "cell_type": "code",
   "execution_count": 11,
   "metadata": {
    "ExecuteTime": {
     "end_time": "2021-06-01T09:56:36.677981Z",
     "start_time": "2021-06-01T09:56:36.662980Z"
    }
   },
   "outputs": [
    {
     "data": {
      "text/plain": [
       "'Texto'"
      ]
     },
     "execution_count": 11,
     "metadata": {},
     "output_type": "execute_result"
    }
   ],
   "source": [
    "texto = 'teXTO'\n",
    "texto.capitalize()"
   ]
  },
  {
   "cell_type": "code",
   "execution_count": 12,
   "metadata": {
    "ExecuteTime": {
     "end_time": "2021-06-01T09:56:49.873292Z",
     "start_time": "2021-06-01T09:56:49.864296Z"
    }
   },
   "outputs": [
    {
     "data": {
      "text/plain": [
       "'texto'"
      ]
     },
     "execution_count": 12,
     "metadata": {},
     "output_type": "execute_result"
    }
   ],
   "source": [
    "texto.lower()"
   ]
  },
  {
   "cell_type": "code",
   "execution_count": 13,
   "metadata": {
    "ExecuteTime": {
     "end_time": "2021-06-01T09:59:28.909681Z",
     "start_time": "2021-06-01T09:59:28.895687Z"
    }
   },
   "outputs": [
    {
     "data": {
      "text/plain": [
       "'TEXTO'"
      ]
     },
     "execution_count": 13,
     "metadata": {},
     "output_type": "execute_result"
    }
   ],
   "source": [
    "texto.upper()"
   ]
  },
  {
   "cell_type": "code",
   "execution_count": 14,
   "metadata": {
    "ExecuteTime": {
     "end_time": "2021-06-01T10:02:02.244478Z",
     "start_time": "2021-06-01T10:02:02.231486Z"
    }
   },
   "outputs": [
    {
     "data": {
      "text/plain": [
       "2"
      ]
     },
     "execution_count": 14,
     "metadata": {},
     "output_type": "execute_result"
    }
   ],
   "source": [
    "# S.find(sub[, start[, end]]) -> int\n",
    "texto.find('X')"
   ]
  },
  {
   "cell_type": "code",
   "execution_count": 15,
   "metadata": {
    "ExecuteTime": {
     "end_time": "2021-06-01T10:16:22.092756Z",
     "start_time": "2021-06-01T10:16:22.076776Z"
    }
   },
   "outputs": [
    {
     "data": {
      "text/plain": [
       "'X'"
      ]
     },
     "execution_count": 15,
     "metadata": {},
     "output_type": "execute_result"
    }
   ],
   "source": [
    "texto[2]"
   ]
  },
  {
   "cell_type": "code",
   "execution_count": 16,
   "metadata": {
    "ExecuteTime": {
     "end_time": "2021-06-01T10:02:03.055975Z",
     "start_time": "2021-06-01T10:02:03.038984Z"
    }
   },
   "outputs": [
    {
     "data": {
      "text/plain": [
       "-1"
      ]
     },
     "execution_count": 16,
     "metadata": {},
     "output_type": "execute_result"
    }
   ],
   "source": [
    "#S.find(sub[, start[, end]]) -> int\n",
    "texto.find('x')"
   ]
  },
  {
   "cell_type": "code",
   "execution_count": 17,
   "metadata": {
    "ExecuteTime": {
     "end_time": "2021-06-01T10:07:22.993769Z",
     "start_time": "2021-06-01T10:07:22.976796Z"
    }
   },
   "outputs": [
    {
     "data": {
      "text/plain": [
       "'testa'"
      ]
     },
     "execution_count": 17,
     "metadata": {},
     "output_type": "execute_result"
    }
   ],
   "source": [
    "#texto.replace(antigo, novo)\n",
    "texto.replace('XTO','sta')"
   ]
  },
  {
   "cell_type": "code",
   "execution_count": null,
   "metadata": {},
   "outputs": [],
   "source": []
  },
  {
   "cell_type": "code",
   "execution_count": null,
   "metadata": {},
   "outputs": [],
   "source": []
  }
 ],
 "metadata": {
  "kernelspec": {
   "display_name": "Python 3 (ipykernel)",
   "language": "python",
   "name": "python3"
  },
  "language_info": {
   "codemirror_mode": {
    "name": "ipython",
    "version": 3
   },
   "file_extension": ".py",
   "mimetype": "text/x-python",
   "name": "python",
   "nbconvert_exporter": "python",
   "pygments_lexer": "ipython3",
   "version": "3.12.4"
  },
  "varInspector": {
   "cols": {
    "lenName": 16,
    "lenType": 16,
    "lenVar": 40
   },
   "kernels_config": {
    "python": {
     "delete_cmd_postfix": "",
     "delete_cmd_prefix": "del ",
     "library": "var_list.py",
     "varRefreshCmd": "print(var_dic_list())"
    },
    "r": {
     "delete_cmd_postfix": ") ",
     "delete_cmd_prefix": "rm(",
     "library": "var_list.r",
     "varRefreshCmd": "cat(var_dic_list()) "
    }
   },
   "types_to_exclude": [
    "module",
    "function",
    "builtin_function_or_method",
    "instance",
    "_Feature"
   ],
   "window_display": false
  }
 },
 "nbformat": 4,
 "nbformat_minor": 4
}
